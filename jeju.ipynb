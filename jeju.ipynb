{
 "cells": [
  {
   "cell_type": "code",
   "execution_count": 1,
   "id": "94b9aeda",
   "metadata": {},
   "outputs": [],
   "source": [
    "import pandas as pd\n",
    "import matplotlib.pyplot as plt\n",
    "import seaborn as sns\n",
    "from sklearn import datasets\n",
    "train = pd.read_csv('train.csv')\n",
    "test = pd.read_csv('test.csv')\n",
    "trade = pd.read_csv('international_trade.csv')"
   ]
  },
  {
   "cell_type": "code",
   "execution_count": 2,
   "id": "865ef6be",
   "metadata": {},
   "outputs": [
    {
     "data": {
      "text/html": [
       "<div>\n",
       "<style scoped>\n",
       "    .dataframe tbody tr th:only-of-type {\n",
       "        vertical-align: middle;\n",
       "    }\n",
       "\n",
       "    .dataframe tbody tr th {\n",
       "        vertical-align: top;\n",
       "    }\n",
       "\n",
       "    .dataframe thead th {\n",
       "        text-align: right;\n",
       "    }\n",
       "</style>\n",
       "<table border=\"1\" class=\"dataframe\">\n",
       "  <thead>\n",
       "    <tr style=\"text-align: right;\">\n",
       "      <th></th>\n",
       "      <th>ID</th>\n",
       "      <th>timestamp</th>\n",
       "      <th>item</th>\n",
       "      <th>corporation</th>\n",
       "      <th>location</th>\n",
       "      <th>supply(kg)</th>\n",
       "      <th>price(원/kg)</th>\n",
       "    </tr>\n",
       "  </thead>\n",
       "  <tbody>\n",
       "    <tr>\n",
       "      <th>0</th>\n",
       "      <td>TG_A_J_20190101</td>\n",
       "      <td>2019-01-01</td>\n",
       "      <td>TG</td>\n",
       "      <td>A</td>\n",
       "      <td>J</td>\n",
       "      <td>0.0</td>\n",
       "      <td>0.0</td>\n",
       "    </tr>\n",
       "    <tr>\n",
       "      <th>1</th>\n",
       "      <td>TG_A_J_20190102</td>\n",
       "      <td>2019-01-02</td>\n",
       "      <td>TG</td>\n",
       "      <td>A</td>\n",
       "      <td>J</td>\n",
       "      <td>0.0</td>\n",
       "      <td>0.0</td>\n",
       "    </tr>\n",
       "    <tr>\n",
       "      <th>2</th>\n",
       "      <td>TG_A_J_20190103</td>\n",
       "      <td>2019-01-03</td>\n",
       "      <td>TG</td>\n",
       "      <td>A</td>\n",
       "      <td>J</td>\n",
       "      <td>60601.0</td>\n",
       "      <td>1728.0</td>\n",
       "    </tr>\n",
       "  </tbody>\n",
       "</table>\n",
       "</div>"
      ],
      "text/plain": [
       "                ID   timestamp item corporation location  supply(kg)  \\\n",
       "0  TG_A_J_20190101  2019-01-01   TG           A        J         0.0   \n",
       "1  TG_A_J_20190102  2019-01-02   TG           A        J         0.0   \n",
       "2  TG_A_J_20190103  2019-01-03   TG           A        J     60601.0   \n",
       "\n",
       "   price(원/kg)  \n",
       "0          0.0  \n",
       "1          0.0  \n",
       "2       1728.0  "
      ]
     },
     "metadata": {},
     "output_type": "display_data"
    },
    {
     "data": {
      "text/html": [
       "<div>\n",
       "<style scoped>\n",
       "    .dataframe tbody tr th:only-of-type {\n",
       "        vertical-align: middle;\n",
       "    }\n",
       "\n",
       "    .dataframe tbody tr th {\n",
       "        vertical-align: top;\n",
       "    }\n",
       "\n",
       "    .dataframe thead th {\n",
       "        text-align: right;\n",
       "    }\n",
       "</style>\n",
       "<table border=\"1\" class=\"dataframe\">\n",
       "  <thead>\n",
       "    <tr style=\"text-align: right;\">\n",
       "      <th></th>\n",
       "      <th>ID</th>\n",
       "      <th>timestamp</th>\n",
       "      <th>item</th>\n",
       "      <th>corporation</th>\n",
       "      <th>location</th>\n",
       "    </tr>\n",
       "  </thead>\n",
       "  <tbody>\n",
       "    <tr>\n",
       "      <th>0</th>\n",
       "      <td>TG_A_J_20230304</td>\n",
       "      <td>2023-03-04</td>\n",
       "      <td>TG</td>\n",
       "      <td>A</td>\n",
       "      <td>J</td>\n",
       "    </tr>\n",
       "    <tr>\n",
       "      <th>1</th>\n",
       "      <td>TG_A_J_20230305</td>\n",
       "      <td>2023-03-05</td>\n",
       "      <td>TG</td>\n",
       "      <td>A</td>\n",
       "      <td>J</td>\n",
       "    </tr>\n",
       "    <tr>\n",
       "      <th>2</th>\n",
       "      <td>TG_A_J_20230306</td>\n",
       "      <td>2023-03-06</td>\n",
       "      <td>TG</td>\n",
       "      <td>A</td>\n",
       "      <td>J</td>\n",
       "    </tr>\n",
       "  </tbody>\n",
       "</table>\n",
       "</div>"
      ],
      "text/plain": [
       "                ID   timestamp item corporation location\n",
       "0  TG_A_J_20230304  2023-03-04   TG           A        J\n",
       "1  TG_A_J_20230305  2023-03-05   TG           A        J\n",
       "2  TG_A_J_20230306  2023-03-06   TG           A        J"
      ]
     },
     "metadata": {},
     "output_type": "display_data"
    },
    {
     "data": {
      "text/html": [
       "<div>\n",
       "<style scoped>\n",
       "    .dataframe tbody tr th:only-of-type {\n",
       "        vertical-align: middle;\n",
       "    }\n",
       "\n",
       "    .dataframe tbody tr th {\n",
       "        vertical-align: top;\n",
       "    }\n",
       "\n",
       "    .dataframe thead th {\n",
       "        text-align: right;\n",
       "    }\n",
       "</style>\n",
       "<table border=\"1\" class=\"dataframe\">\n",
       "  <thead>\n",
       "    <tr style=\"text-align: right;\">\n",
       "      <th></th>\n",
       "      <th>기간</th>\n",
       "      <th>품목명</th>\n",
       "      <th>수출 중량</th>\n",
       "      <th>수출 금액</th>\n",
       "      <th>수입 중량</th>\n",
       "      <th>수입 금액</th>\n",
       "      <th>무역수지</th>\n",
       "    </tr>\n",
       "  </thead>\n",
       "  <tbody>\n",
       "    <tr>\n",
       "      <th>0</th>\n",
       "      <td>2019-01</td>\n",
       "      <td>토마토(신선한 것이나 냉장한 것으로 한정한다)</td>\n",
       "      <td>356571</td>\n",
       "      <td>990</td>\n",
       "      <td>0</td>\n",
       "      <td>0</td>\n",
       "      <td>990</td>\n",
       "    </tr>\n",
       "    <tr>\n",
       "      <th>1</th>\n",
       "      <td>2019-01</td>\n",
       "      <td>양파</td>\n",
       "      <td>821330</td>\n",
       "      <td>222</td>\n",
       "      <td>4003206</td>\n",
       "      <td>1118</td>\n",
       "      <td>-896</td>\n",
       "    </tr>\n",
       "    <tr>\n",
       "      <th>2</th>\n",
       "      <td>2019-01</td>\n",
       "      <td>쪽파</td>\n",
       "      <td>60</td>\n",
       "      <td>1</td>\n",
       "      <td>93405</td>\n",
       "      <td>128</td>\n",
       "      <td>-127</td>\n",
       "    </tr>\n",
       "  </tbody>\n",
       "</table>\n",
       "</div>"
      ],
      "text/plain": [
       "        기간                        품목명   수출 중량  수출 금액    수입 중량  수입 금액  무역수지\n",
       "0  2019-01  토마토(신선한 것이나 냉장한 것으로 한정한다)  356571    990        0      0   990\n",
       "1  2019-01                         양파  821330    222  4003206   1118  -896\n",
       "2  2019-01                         쪽파      60      1    93405    128  -127"
      ]
     },
     "metadata": {},
     "output_type": "display_data"
    }
   ],
   "source": [
    "full_data= [train, test]\n",
    "for dataset in full_data:\n",
    "    display(dataset.head(3))\n",
    "display(trade .head(3))"
   ]
  },
  {
   "cell_type": "markdown",
   "id": "8c81599e",
   "metadata": {},
   "source": [
    "1. train.csv\n",
    "\n",
    "train 데이터 : 2019년 01월 01일부터 2023년 03월 03일까지의 유통된 품목의 가격 데이터\n",
    "item: 품목 코드\n",
    "TG : 감귤\n",
    "BC : 브로콜리\n",
    "RD : 무\n",
    "CR : 당근\n",
    "CB : 양배추\n",
    "corporation : 유통 법인 코드\n",
    "법인 A부터 F 존재\n",
    "location : 지역 코드\n",
    "J : 제주도 제주시\n",
    "S : 제주도 서귀포시\n",
    "supply(kg) : 유통된 물량, kg 단위\n",
    "price(원/kg) : 유통된 품목들의 kg 마다의 가격, 원 단위\n",
    "\n",
    "\n",
    "2. international_trade.csv\n",
    "\n",
    "관련 품목 수출입 정보\n",
    "중량 단위 kg\n",
    "금액 단위 천 달러\n",
    "\n",
    "\n",
    "3. test.csv\n",
    "\n",
    "test 데이터 : 2023년 03월 04일부터 2023년 03월 31일까지의 데이터\n",
    "\n",
    "\n",
    "4. sample_submission.csv\n",
    "\n",
    "제출을 위한 양식\n",
    "2023년 03월 04일부터 2023년 03월 31일까지의 price(원/kg)을 예측\n",
    "ID는 품목, 유통 법인, 지역 코드로 구성된 식별자\n",
    "해당 ID에 맞춰 price(원/kg) 예측값을 answer 컬럼에 기입해야 함"
   ]
  },
  {
   "cell_type": "markdown",
   "id": "15ad39e7",
   "metadata": {},
   "source": [
    "first, check the null"
   ]
  },
  {
   "cell_type": "code",
   "execution_count": 3,
   "id": "a2eea789",
   "metadata": {},
   "outputs": [
    {
     "name": "stdout",
     "output_type": "stream",
     "text": [
      "ID             0\n",
      "timestamp      0\n",
      "item           0\n",
      "corporation    0\n",
      "location       0\n",
      "supply(kg)     0\n",
      "price(원/kg)    0\n",
      "dtype: int64\n",
      "--------\n",
      "ID             0\n",
      "timestamp      0\n",
      "item           0\n",
      "corporation    0\n",
      "location       0\n",
      "dtype: int64\n",
      "--------\n"
     ]
    }
   ],
   "source": [
    "for dataset in full_data :\n",
    "    print(dataset.isnull().sum())\n",
    "    print('--------')"
   ]
  },
  {
   "cell_type": "markdown",
   "id": "a6238da7",
   "metadata": {},
   "source": [
    "create the variable called weather for take a look relarionship between Weather and Price"
   ]
  },
  {
   "cell_type": "code",
   "execution_count": 4,
   "id": "71554d1a",
   "metadata": {},
   "outputs": [
    {
     "name": "stdout",
     "output_type": "stream",
     "text": [
      "0        2019-01-01\n",
      "1        2019-01-02\n",
      "2        2019-01-03\n",
      "3        2019-01-04\n",
      "4        2019-01-05\n",
      "            ...    \n",
      "59392    2023-02-27\n",
      "59393    2023-02-28\n",
      "59394    2023-03-01\n",
      "59395    2023-03-02\n",
      "59396    2023-03-03\n",
      "Name: timestamp, Length: 59397, dtype: object\n"
     ]
    }
   ],
   "source": [
    "print(train['timestamp'])"
   ]
  },
  {
   "cell_type": "code",
   "execution_count": 5,
   "id": "1337826e",
   "metadata": {},
   "outputs": [
    {
     "data": {
      "text/plain": [
       "0    3\n",
       "1    3\n",
       "2    3\n",
       "Name: Month, dtype: int32"
      ]
     },
     "metadata": {},
     "output_type": "display_data"
    }
   ],
   "source": [
    "for dataset in full_data:\n",
    "    dataset['timestamp'] = pd.to_datetime(dataset['timestamp'])\n",
    "    dataset['Month'] = dataset['timestamp'].dt.month\n",
    "\n",
    "display( dataset['Month'].head(3));\n",
    "\n"
   ]
  },
  {
   "cell_type": "code",
   "execution_count": 6,
   "id": "7bbec9c5",
   "metadata": {},
   "outputs": [
    {
     "data": {
      "text/html": [
       "<div>\n",
       "<style scoped>\n",
       "    .dataframe tbody tr th:only-of-type {\n",
       "        vertical-align: middle;\n",
       "    }\n",
       "\n",
       "    .dataframe tbody tr th {\n",
       "        vertical-align: top;\n",
       "    }\n",
       "\n",
       "    .dataframe thead th {\n",
       "        text-align: right;\n",
       "    }\n",
       "</style>\n",
       "<table border=\"1\" class=\"dataframe\">\n",
       "  <thead>\n",
       "    <tr style=\"text-align: right;\">\n",
       "      <th></th>\n",
       "      <th>timestamp</th>\n",
       "      <th>Month</th>\n",
       "    </tr>\n",
       "  </thead>\n",
       "  <tbody>\n",
       "    <tr>\n",
       "      <th>count</th>\n",
       "      <td>1092</td>\n",
       "      <td>1092.0</td>\n",
       "    </tr>\n",
       "    <tr>\n",
       "      <th>mean</th>\n",
       "      <td>2023-03-17 12:00:00</td>\n",
       "      <td>3.0</td>\n",
       "    </tr>\n",
       "    <tr>\n",
       "      <th>min</th>\n",
       "      <td>2023-03-04 00:00:00</td>\n",
       "      <td>3.0</td>\n",
       "    </tr>\n",
       "    <tr>\n",
       "      <th>25%</th>\n",
       "      <td>2023-03-10 18:00:00</td>\n",
       "      <td>3.0</td>\n",
       "    </tr>\n",
       "    <tr>\n",
       "      <th>50%</th>\n",
       "      <td>2023-03-17 12:00:00</td>\n",
       "      <td>3.0</td>\n",
       "    </tr>\n",
       "    <tr>\n",
       "      <th>75%</th>\n",
       "      <td>2023-03-24 06:00:00</td>\n",
       "      <td>3.0</td>\n",
       "    </tr>\n",
       "    <tr>\n",
       "      <th>max</th>\n",
       "      <td>2023-03-31 00:00:00</td>\n",
       "      <td>3.0</td>\n",
       "    </tr>\n",
       "    <tr>\n",
       "      <th>std</th>\n",
       "      <td>NaN</td>\n",
       "      <td>0.0</td>\n",
       "    </tr>\n",
       "  </tbody>\n",
       "</table>\n",
       "</div>"
      ],
      "text/plain": [
       "                 timestamp   Month\n",
       "count                 1092  1092.0\n",
       "mean   2023-03-17 12:00:00     3.0\n",
       "min    2023-03-04 00:00:00     3.0\n",
       "25%    2023-03-10 18:00:00     3.0\n",
       "50%    2023-03-17 12:00:00     3.0\n",
       "75%    2023-03-24 06:00:00     3.0\n",
       "max    2023-03-31 00:00:00     3.0\n",
       "std                    NaN     0.0"
      ]
     },
     "execution_count": 6,
     "metadata": {},
     "output_type": "execute_result"
    }
   ],
   "source": [
    "dataset.describe()"
   ]
  },
  {
   "cell_type": "code",
   "execution_count": 7,
   "id": "361a55cf",
   "metadata": {},
   "outputs": [
    {
     "name": "stdout",
     "output_type": "stream",
     "text": [
      "                    ID  timestamp item corporation location  supply(kg)  \\\n",
      "0      TG_A_J_20190101 2019-01-01   TG           A        J         0.0   \n",
      "1      TG_A_J_20190102 2019-01-02   TG           A        J         0.0   \n",
      "2      TG_A_J_20190103 2019-01-03   TG           A        J     60601.0   \n",
      "3      TG_A_J_20190104 2019-01-04   TG           A        J     25000.0   \n",
      "4      TG_A_J_20190105 2019-01-05   TG           A        J     32352.0   \n",
      "...                ...        ...  ...         ...      ...         ...   \n",
      "59392  RD_F_J_20230227 2023-02-27   RD           F        J    452440.0   \n",
      "59393  RD_F_J_20230228 2023-02-28   RD           F        J    421980.0   \n",
      "59394  RD_F_J_20230301 2023-03-01   RD           F        J    382980.0   \n",
      "59395  RD_F_J_20230302 2023-03-02   RD           F        J    477220.0   \n",
      "59396  RD_F_J_20230303 2023-03-03   RD           F        J    427520.0   \n",
      "\n",
      "       price(원/kg)  Month  \n",
      "0              0.0      1  \n",
      "1              0.0      1  \n",
      "2           1728.0      1  \n",
      "3           1408.0      1  \n",
      "4           1250.0      1  \n",
      "...            ...    ...  \n",
      "59392        468.0      2  \n",
      "59393        531.0      2  \n",
      "59394        574.0      3  \n",
      "59395        523.0      3  \n",
      "59396        529.0      3  \n",
      "\n",
      "[59397 rows x 8 columns]\n"
     ]
    }
   ],
   "source": [
    "print(train)"
   ]
  },
  {
   "cell_type": "code",
   "execution_count": 8,
   "id": "39d30fbd",
   "metadata": {},
   "outputs": [],
   "source": [
    "for dataset in full_data:    \n",
    "    dataset.loc[ (dataset['Month'] ==12) | (dataset['Month'] >=1) & (dataset['Month'] <=2) ,'weather'] = 0\n",
    "    dataset.loc[(dataset['Month'] >2 ) & (dataset['Month'] <=5), 'weather'] = 1\n",
    "    dataset.loc[(dataset['Month'] >6) & (dataset['Month'] <= 9), 'weather'] = 3\n",
    "    dataset.loc[(dataset['Month'] > 10) & (dataset['Month'] <= 11), 'weather'] = 4\n",
    "    \n",
    "\n"
   ]
  },
  {
   "cell_type": "code",
   "execution_count": 9,
   "id": "2b06ff87",
   "metadata": {},
   "outputs": [
    {
     "data": {
      "text/html": [
       "<div>\n",
       "<style scoped>\n",
       "    .dataframe tbody tr th:only-of-type {\n",
       "        vertical-align: middle;\n",
       "    }\n",
       "\n",
       "    .dataframe tbody tr th {\n",
       "        vertical-align: top;\n",
       "    }\n",
       "\n",
       "    .dataframe thead th {\n",
       "        text-align: right;\n",
       "    }\n",
       "</style>\n",
       "<table border=\"1\" class=\"dataframe\">\n",
       "  <thead>\n",
       "    <tr style=\"text-align: right;\">\n",
       "      <th></th>\n",
       "      <th>ID</th>\n",
       "      <th>timestamp</th>\n",
       "      <th>item</th>\n",
       "      <th>corporation</th>\n",
       "      <th>location</th>\n",
       "      <th>supply(kg)</th>\n",
       "      <th>price(원/kg)</th>\n",
       "      <th>Month</th>\n",
       "      <th>weather</th>\n",
       "    </tr>\n",
       "  </thead>\n",
       "  <tbody>\n",
       "    <tr>\n",
       "      <th>0</th>\n",
       "      <td>TG_A_J_20190101</td>\n",
       "      <td>2019-01-01</td>\n",
       "      <td>TG</td>\n",
       "      <td>A</td>\n",
       "      <td>J</td>\n",
       "      <td>0.0</td>\n",
       "      <td>0.0</td>\n",
       "      <td>1</td>\n",
       "      <td>Wn</td>\n",
       "    </tr>\n",
       "    <tr>\n",
       "      <th>1</th>\n",
       "      <td>TG_A_J_20190102</td>\n",
       "      <td>2019-01-02</td>\n",
       "      <td>TG</td>\n",
       "      <td>A</td>\n",
       "      <td>J</td>\n",
       "      <td>0.0</td>\n",
       "      <td>0.0</td>\n",
       "      <td>1</td>\n",
       "      <td>Wn</td>\n",
       "    </tr>\n",
       "    <tr>\n",
       "      <th>2</th>\n",
       "      <td>TG_A_J_20190103</td>\n",
       "      <td>2019-01-03</td>\n",
       "      <td>TG</td>\n",
       "      <td>A</td>\n",
       "      <td>J</td>\n",
       "      <td>60601.0</td>\n",
       "      <td>1728.0</td>\n",
       "      <td>1</td>\n",
       "      <td>Wn</td>\n",
       "    </tr>\n",
       "    <tr>\n",
       "      <th>3</th>\n",
       "      <td>TG_A_J_20190104</td>\n",
       "      <td>2019-01-04</td>\n",
       "      <td>TG</td>\n",
       "      <td>A</td>\n",
       "      <td>J</td>\n",
       "      <td>25000.0</td>\n",
       "      <td>1408.0</td>\n",
       "      <td>1</td>\n",
       "      <td>Wn</td>\n",
       "    </tr>\n",
       "    <tr>\n",
       "      <th>4</th>\n",
       "      <td>TG_A_J_20190105</td>\n",
       "      <td>2019-01-05</td>\n",
       "      <td>TG</td>\n",
       "      <td>A</td>\n",
       "      <td>J</td>\n",
       "      <td>32352.0</td>\n",
       "      <td>1250.0</td>\n",
       "      <td>1</td>\n",
       "      <td>Wn</td>\n",
       "    </tr>\n",
       "    <tr>\n",
       "      <th>...</th>\n",
       "      <td>...</td>\n",
       "      <td>...</td>\n",
       "      <td>...</td>\n",
       "      <td>...</td>\n",
       "      <td>...</td>\n",
       "      <td>...</td>\n",
       "      <td>...</td>\n",
       "      <td>...</td>\n",
       "      <td>...</td>\n",
       "    </tr>\n",
       "    <tr>\n",
       "      <th>59392</th>\n",
       "      <td>RD_F_J_20230227</td>\n",
       "      <td>2023-02-27</td>\n",
       "      <td>RD</td>\n",
       "      <td>F</td>\n",
       "      <td>J</td>\n",
       "      <td>452440.0</td>\n",
       "      <td>468.0</td>\n",
       "      <td>2</td>\n",
       "      <td>Wn</td>\n",
       "    </tr>\n",
       "    <tr>\n",
       "      <th>59393</th>\n",
       "      <td>RD_F_J_20230228</td>\n",
       "      <td>2023-02-28</td>\n",
       "      <td>RD</td>\n",
       "      <td>F</td>\n",
       "      <td>J</td>\n",
       "      <td>421980.0</td>\n",
       "      <td>531.0</td>\n",
       "      <td>2</td>\n",
       "      <td>Wn</td>\n",
       "    </tr>\n",
       "    <tr>\n",
       "      <th>59394</th>\n",
       "      <td>RD_F_J_20230301</td>\n",
       "      <td>2023-03-01</td>\n",
       "      <td>RD</td>\n",
       "      <td>F</td>\n",
       "      <td>J</td>\n",
       "      <td>382980.0</td>\n",
       "      <td>574.0</td>\n",
       "      <td>3</td>\n",
       "      <td>Sp</td>\n",
       "    </tr>\n",
       "    <tr>\n",
       "      <th>59395</th>\n",
       "      <td>RD_F_J_20230302</td>\n",
       "      <td>2023-03-02</td>\n",
       "      <td>RD</td>\n",
       "      <td>F</td>\n",
       "      <td>J</td>\n",
       "      <td>477220.0</td>\n",
       "      <td>523.0</td>\n",
       "      <td>3</td>\n",
       "      <td>Sp</td>\n",
       "    </tr>\n",
       "    <tr>\n",
       "      <th>59396</th>\n",
       "      <td>RD_F_J_20230303</td>\n",
       "      <td>2023-03-03</td>\n",
       "      <td>RD</td>\n",
       "      <td>F</td>\n",
       "      <td>J</td>\n",
       "      <td>427520.0</td>\n",
       "      <td>529.0</td>\n",
       "      <td>3</td>\n",
       "      <td>Sp</td>\n",
       "    </tr>\n",
       "  </tbody>\n",
       "</table>\n",
       "<p>59397 rows × 9 columns</p>\n",
       "</div>"
      ],
      "text/plain": [
       "                    ID  timestamp item corporation location  supply(kg)  \\\n",
       "0      TG_A_J_20190101 2019-01-01   TG           A        J         0.0   \n",
       "1      TG_A_J_20190102 2019-01-02   TG           A        J         0.0   \n",
       "2      TG_A_J_20190103 2019-01-03   TG           A        J     60601.0   \n",
       "3      TG_A_J_20190104 2019-01-04   TG           A        J     25000.0   \n",
       "4      TG_A_J_20190105 2019-01-05   TG           A        J     32352.0   \n",
       "...                ...        ...  ...         ...      ...         ...   \n",
       "59392  RD_F_J_20230227 2023-02-27   RD           F        J    452440.0   \n",
       "59393  RD_F_J_20230228 2023-02-28   RD           F        J    421980.0   \n",
       "59394  RD_F_J_20230301 2023-03-01   RD           F        J    382980.0   \n",
       "59395  RD_F_J_20230302 2023-03-02   RD           F        J    477220.0   \n",
       "59396  RD_F_J_20230303 2023-03-03   RD           F        J    427520.0   \n",
       "\n",
       "       price(원/kg)  Month weather  \n",
       "0              0.0      1      Wn  \n",
       "1              0.0      1      Wn  \n",
       "2           1728.0      1      Wn  \n",
       "3           1408.0      1      Wn  \n",
       "4           1250.0      1      Wn  \n",
       "...            ...    ...     ...  \n",
       "59392        468.0      2      Wn  \n",
       "59393        531.0      2      Wn  \n",
       "59394        574.0      3      Sp  \n",
       "59395        523.0      3      Sp  \n",
       "59396        529.0      3      Sp  \n",
       "\n",
       "[59397 rows x 9 columns]"
      ]
     },
     "metadata": {},
     "output_type": "display_data"
    }
   ],
   "source": [
    "display(train)"
   ]
  },
  {
   "cell_type": "code",
   "execution_count": 10,
   "id": "cd22b8ae",
   "metadata": {},
   "outputs": [
    {
     "data": {
      "text/plain": [
       "0        Wn\n",
       "1        Wn\n",
       "2        Wn\n",
       "3        Wn\n",
       "4        Wn\n",
       "         ..\n",
       "59392    Wn\n",
       "59393    Wn\n",
       "59394    Sp\n",
       "59395    Sp\n",
       "59396    Sp\n",
       "Name: weather, Length: 59397, dtype: object"
      ]
     },
     "metadata": {},
     "output_type": "display_data"
    }
   ],
   "source": [
    "display(train['weather'])"
   ]
  },
  {
   "cell_type": "code",
   "execution_count": 35,
   "id": "33804b06",
   "metadata": {},
   "outputs": [],
   "source": [
    "train=train.rename(columns={'price(원/kg)': 'price(won/kg)'})\n"
   ]
  },
  {
   "cell_type": "code",
   "execution_count": 43,
   "id": "e8c8c008",
   "metadata": {},
   "outputs": [],
   "source": [
    "for dataset in full_data:\n",
    "    PassengerId = dataset['Month'].values\n",
    "    dataset.drop(columns = ['Month'], inplace= True)"
   ]
  },
  {
   "cell_type": "code",
   "execution_count": 44,
   "id": "fff8c737",
   "metadata": {},
   "outputs": [
    {
     "data": {
      "text/plain": [
       "<Axes: xlabel='weather', ylabel='price(won/kg)'>"
      ]
     },
     "execution_count": 44,
     "metadata": {},
     "output_type": "execute_result"
    },
    {
     "data": {
      "image/png": "[encoded data removed]",
      "text/plain": [
       "<Figure size 640x480 with 1 Axes>"
      ]
     },
     "metadata": {},
     "output_type": "display_data"
    }
   ],
   "source": [
    "sns.scatterplot(data=train, x='weather', y='price(won/kg)', hue='item')"
   ]
  },
  {
   "cell_type": "code",
   "execution_count": 46,
   "id": "9162bbc2",
   "metadata": {},
   "outputs": [
    {
     "name": "stderr",
     "output_type": "stream",
     "text": [
      "c:\\Users\\junun\\miniconda3\\envs\\jun\\Lib\\site-packages\\seaborn\\axisgrid.py:123: UserWarning: The figure layout has changed to tight\n",
      "  self._figure.tight_layout(*args, **kwargs)\n"
     ]
    },
    {
     "data": {
      "text/plain": [
       "<seaborn.axisgrid.PairGrid at 0x26414d905d0>"
      ]
     },
     "execution_count": 46,
     "metadata": {},
     "output_type": "execute_result"
    },
    {
     "data": {
      "image/png": "[encoded data removed]",
      "text/plain": [
       "<Figure size 500x500 with 6 Axes>"
      ]
     },
     "metadata": {},
     "output_type": "display_data"
    }
   ],
   "source": [
    "sns.pairplot(train[['supply(kg)','price(won/kg)']])"
   ]
  },
  {
   "cell_type": "code",
   "execution_count": 48,
   "id": "d46c83cc",
   "metadata": {},
   "outputs": [
    {
     "data": {
      "text/html": [
       "<div>\n",
       "<style scoped>\n",
       "    .dataframe tbody tr th:only-of-type {\n",
       "        vertical-align: middle;\n",
       "    }\n",
       "\n",
       "    .dataframe tbody tr th {\n",
       "        vertical-align: top;\n",
       "    }\n",
       "\n",
       "    .dataframe thead th {\n",
       "        text-align: right;\n",
       "    }\n",
       "</style>\n",
       "<table border=\"1\" class=\"dataframe\">\n",
       "  <thead>\n",
       "    <tr style=\"text-align: right;\">\n",
       "      <th></th>\n",
       "      <th>supply(kg)</th>\n",
       "      <th>price(won/kg)</th>\n",
       "    </tr>\n",
       "  </thead>\n",
       "  <tbody>\n",
       "    <tr>\n",
       "      <th>supply(kg)</th>\n",
       "      <td>1.000000</td>\n",
       "      <td>-0.002297</td>\n",
       "    </tr>\n",
       "    <tr>\n",
       "      <th>price(won/kg)</th>\n",
       "      <td>-0.002297</td>\n",
       "      <td>1.000000</td>\n",
       "    </tr>\n",
       "  </tbody>\n",
       "</table>\n",
       "</div>"
      ],
      "text/plain": [
       "               supply(kg)  price(won/kg)\n",
       "supply(kg)       1.000000      -0.002297\n",
       "price(won/kg)   -0.002297       1.000000"
      ]
     },
     "execution_count": 48,
     "metadata": {},
     "output_type": "execute_result"
    }
   ],
   "source": [
    "train[['supply(kg)','price(won/kg)']].corr()"
   ]
  },
  {
   "cell_type": "code",
   "execution_count": null,
   "id": "2f299c80",
   "metadata": {},
   "outputs": [],
   "source": []
  }
 ],
 "metadata": {
  "kernelspec": {
   "display_name": "Python 3 (ipykernel)",
   "language": "python",
   "name": "python3"
  },
  "language_info": {
   "codemirror_mode": {
    "name": "ipython",
    "version": 3
   },
   "file_extension": ".py",
   "mimetype": "text/x-python",
   "name": "python",
   "nbconvert_exporter": "python",
   "pygments_lexer": "ipython3",
   "version": "3.11.4"
  }
 },
 "nbformat": 4,
 "nbformat_minor": 5
}
